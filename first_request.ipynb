{
 "cells": [
  {
   "cell_type": "code",
   "execution_count": 2,
   "id": "9293da8a-45ab-44fc-8bbf-8cf0bb2d467a",
   "metadata": {},
   "outputs": [
    {
     "ename": "NameError",
     "evalue": "name 'dotenv_values' is not defined",
     "output_type": "error",
     "traceback": [
      "\u001b[0;31m---------------------------------------------------------------------------\u001b[0m",
      "\u001b[0;31mNameError\u001b[0m                                 Traceback (most recent call last)",
      "Cell \u001b[0;32mIn[2], line 3\u001b[0m\n\u001b[1;32m      1\u001b[0m \u001b[38;5;28;01mimport\u001b[39;00m \u001b[38;5;21;01mopenai\u001b[39;00m\n\u001b[1;32m      2\u001b[0m \u001b[38;5;66;03m# from dotenv import dotenv_values\u001b[39;00m\n\u001b[0;32m----> 3\u001b[0m config \u001b[38;5;241m=\u001b[39m \u001b[43mdotenv_values\u001b[49m(\u001b[38;5;124m\"\u001b[39m\u001b[38;5;124m.env\u001b[39m\u001b[38;5;124m\"\u001b[39m)\n\u001b[1;32m      4\u001b[0m openai\u001b[38;5;241m.\u001b[39mapi_key \u001b[38;5;241m=\u001b[39m config[\u001b[38;5;124m\"\u001b[39m\u001b[38;5;124mOPENAI_API_KEY\u001b[39m\u001b[38;5;124m\"\u001b[39m]\n",
      "\u001b[0;31mNameError\u001b[0m: name 'dotenv_values' is not defined"
     ]
    }
   ],
   "source": [
    "import openai\n",
    "# from dotenv import dotenv_values\n",
    "config = dotenv_values(\".env\")\n",
    "openai.api_key = config[\"OPENAI_API_KEY\"]"
   ]
  },
  {
   "cell_type": "code",
   "execution_count": 34,
   "id": "58141224-38c2-4428-81fa-1063d54aaf00",
   "metadata": {},
   "outputs": [],
   "source": [
    "import json"
   ]
  },
  {
   "cell_type": "code",
   "execution_count": 58,
   "id": "bfa86191-1791-48ad-8e31-7a0465f41658",
   "metadata": {},
   "outputs": [
    {
     "data": {
      "text/html": [
       "<span style='color: #FFC27A'>█</span> <span style='color: #FF8657'>█</span> <span style='color: #E84A5F'>█</span> <span style='color: #A72A27'>█</span> <span style='color: #570013'>█</span>"
      ],
      "text/plain": [
       "<IPython.core.display.HTML object>"
      ]
     },
     "metadata": {},
     "output_type": "display_data"
    }
   ],
   "source": [
    "from IPython.display import HTML, display\n",
    "\n",
    "def display_colors(colors):\n",
    "    display(HTML(\" \".join(\n",
    "        f\"<span style='color: {color}'>{chr(9608)}</span>\"\n",
    "        for color in colors\n",
    "    )))\n",
    "\n",
    "display_colors([\"#FFC27A\", \"#FF8657\", \"#E84A5F\", \"#A72A27\", \"#570013\"])"
   ]
  },
  {
   "cell_type": "code",
   "execution_count": 62,
   "id": "f2da7704-ff4b-4608-9edb-993c90f4f7cd",
   "metadata": {},
   "outputs": [],
   "source": [
    "def get_and_render_colors(input_text):\n",
    "    prompt = f\"\"\"\n",
    "    You are a color palette generating assistant that responds to text prompts for color palettes\n",
    "    You should generate color palettes that fit the theme, mood or instructions in the prompt. The palettes should be between 4 and 6 colors.\n",
    "    Desired Format: a JSON array of hexadecimal color codes. Don't include json formatting. Include # in front of the hex codes.\n",
    "    \n",
    "    Q: Convert the following description of a color palette into a list of colors: Ocean tones\n",
    "    A: [\"#0077be\", \"#4f819d\", \"#a8c4d0\", \"#61a0a8\", \"#2b6d84\"]\n",
    "    \n",
    "    Q: Convert the following description of a color palette into a list of colors: {input_text}\n",
    "    A:\n",
    "    \"\"\"\n",
    "    response = openai.chat.completions.create(\n",
    "        model=\"gpt-3.5-turbo\",\n",
    "        messages=[\n",
    "            {\"role\": \"user\",\n",
    "            \"content\": f\"{prompt}\"\n",
    "            }\n",
    "        ]\n",
    "    )\n",
    "    return response\n",
    "\n",
    "query = get_and_render_colors(\"4 Google brand colors\")\n",
    "    "
   ]
  },
  {
   "cell_type": "code",
   "execution_count": 63,
   "id": "9964d964-00c0-405c-a10e-67de4c63bec5",
   "metadata": {},
   "outputs": [
    {
     "name": "stdout",
     "output_type": "stream",
     "text": [
      "[\"#4285f4\", \"#34a853\", \"#fbbc05\", \"#ea4335\"]\n"
     ]
    },
    {
     "data": {
      "text/html": [
       "<span style='color: #4285f4'>█</span> <span style='color: #34a853'>█</span> <span style='color: #fbbc05'>█</span> <span style='color: #ea4335'>█</span>"
      ],
      "text/plain": [
       "<IPython.core.display.HTML object>"
      ]
     },
     "metadata": {},
     "output_type": "display_data"
    }
   ],
   "source": [
    "answer = query.choices[0].message.content\n",
    "print(answer)\n",
    "colors = json.loads(answer)\n",
    "display_colors(colors)"
   ]
  },
  {
   "cell_type": "code",
   "execution_count": null,
   "id": "707dfe9b-605e-4282-aab2-0fd06cc78465",
   "metadata": {},
   "outputs": [],
   "source": []
  }
 ],
 "metadata": {
  "kernelspec": {
   "display_name": "Python 3 (ipykernel)",
   "language": "python",
   "name": "python3"
  },
  "language_info": {
   "codemirror_mode": {
    "name": "ipython",
    "version": 3
   },
   "file_extension": ".py",
   "mimetype": "text/x-python",
   "name": "python",
   "nbconvert_exporter": "python",
   "pygments_lexer": "ipython3",
   "version": "3.12.2"
  }
 },
 "nbformat": 4,
 "nbformat_minor": 5
}
