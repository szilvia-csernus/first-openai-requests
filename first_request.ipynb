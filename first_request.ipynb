{
 "cells": [
  {
   "cell_type": "code",
   "execution_count": 1,
   "id": "9293da8a-45ab-44fc-8bbf-8cf0bb2d467a",
   "metadata": {},
   "outputs": [],
   "source": [
    "import openai\n",
    "from dotenv import dotenv_values\n",
    "config = dotenv_values(\".env\")\n",
    "openai.api_key = config[\"OPENAI_API_KEY\"]"
   ]
  },
  {
   "cell_type": "code",
   "execution_count": 2,
   "id": "58141224-38c2-4428-81fa-1063d54aaf00",
   "metadata": {},
   "outputs": [],
   "source": [
    "import json"
   ]
  },
  {
   "cell_type": "code",
   "execution_count": 3,
   "id": "bfa86191-1791-48ad-8e31-7a0465f41658",
   "metadata": {},
   "outputs": [
    {
     "data": {
      "text/html": [
       "<span style='color: #FFC27A'>█</span> <span style='color: #FF8657'>█</span> <span style='color: #E84A5F'>█</span> <span style='color: #A72A27'>█</span> <span style='color: #570013'>█</span>"
      ],
      "text/plain": [
       "<IPython.core.display.HTML object>"
      ]
     },
     "metadata": {},
     "output_type": "display_data"
    }
   ],
   "source": [
    "from IPython.display import HTML, display\n",
    "\n",
    "def display_colors(colors):\n",
    "    display(HTML(\" \".join(\n",
    "        f\"<span style='color: {color}'>{chr(9608)}</span>\"\n",
    "        for color in colors\n",
    "    )))\n",
    "\n",
    "display_colors([\"#FFC27A\", \"#FF8657\", \"#E84A5F\", \"#A72A27\", \"#570013\"])"
   ]
  },
  {
   "cell_type": "code",
   "execution_count": 18,
   "id": "f2da7704-ff4b-4608-9edb-993c90f4f7cd",
   "metadata": {},
   "outputs": [],
   "source": [
    "def get_and_render_colors(input_text):\n",
    "    system_prompt = \"\"\"\n",
    "    You are a color palette generating assistant that responds to text prompts for color palettes\n",
    "    You should generate color palettes that fit the theme, mood or instructions in the prompt. The palettes should be between 2 and 8 colors.\n",
    "    Desired Format: a JSON array of hexadecimal color codes. Include # in front of the hex codes. Provide the hex numbers in double quotes so that they are formatted correctly for json.\n",
    "    \"\"\"\n",
    "    user_prompt1 = \"Ocean tones\"\n",
    "    assistant_answer = [\"#0077be\", \"#4f819d\", \"#a8c4d0\", \"#61a0a8\", \"#2b6d84\"]\n",
    "    \n",
    "    user_prompt2 = input_text\n",
    "    \n",
    "    response = openai.chat.completions.create(\n",
    "        model=\"gpt-3.5-turbo\",\n",
    "        messages=[\n",
    "            {\n",
    "              \"role\": \"system\",\n",
    "              \"content\": f\"{system_prompt}\"\n",
    "            },\n",
    "            {\n",
    "              \"role\": \"user\",\n",
    "              \"content\": f\"{user_prompt1}\"\n",
    "            },\n",
    "            {\n",
    "              \"role\": \"assistant\",\n",
    "              \"content\": f\"{assistant_answer}\"\n",
    "            },\n",
    "            {\n",
    "              \"role\": \"user\",\n",
    "              \"content\": f\"{user_prompt2}\"\n",
    "            }\n",
    "        ])\n",
    "    return response\n",
    "\n",
    "query = get_and_render_colors(\"4 Google brand colors\")\n",
    "    "
   ]
  },
  {
   "cell_type": "code",
   "execution_count": 19,
   "id": "9964d964-00c0-405c-a10e-67de4c63bec5",
   "metadata": {},
   "outputs": [
    {
     "name": "stdout",
     "output_type": "stream",
     "text": [
      "[\"#4285f4\", \"#34a853\", \"#fbbc05\", \"#ea4335\"]\n"
     ]
    },
    {
     "data": {
      "text/html": [
       "<span style='color: #4285f4'>█</span> <span style='color: #34a853'>█</span> <span style='color: #fbbc05'>█</span> <span style='color: #ea4335'>█</span>"
      ],
      "text/plain": [
       "<IPython.core.display.HTML object>"
      ]
     },
     "metadata": {},
     "output_type": "display_data"
    }
   ],
   "source": [
    "answer = query.choices[0].message.content\n",
    "print(answer)\n",
    "colors = json.loads(answer)\n",
    "display_colors(colors)"
   ]
  },
  {
   "cell_type": "code",
   "execution_count": null,
   "id": "707dfe9b-605e-4282-aab2-0fd06cc78465",
   "metadata": {},
   "outputs": [],
   "source": []
  }
 ],
 "metadata": {
  "kernelspec": {
   "display_name": "Python 3 (ipykernel)",
   "language": "python",
   "name": "python3"
  },
  "language_info": {
   "codemirror_mode": {
    "name": "ipython",
    "version": 3
   },
   "file_extension": ".py",
   "mimetype": "text/x-python",
   "name": "python",
   "nbconvert_exporter": "python",
   "pygments_lexer": "ipython3",
   "version": "3.12.2"
  }
 },
 "nbformat": 4,
 "nbformat_minor": 5
}
