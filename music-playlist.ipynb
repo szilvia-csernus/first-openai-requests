{
 "cells": [
  {
   "cell_type": "code",
   "execution_count": 1,
   "id": "9293da8a-45ab-44fc-8bbf-8cf0bb2d467a",
   "metadata": {},
   "outputs": [],
   "source": [
    "import openai\n",
    "from dotenv import dotenv_values\n",
    "config = dotenv_values(\".env\")\n",
    "openai.api_key = config[\"OPENAI_API_KEY\"]"
   ]
  },
  {
   "cell_type": "code",
   "execution_count": 6,
   "id": "f2da7704-ff4b-4608-9edb-993c90f4f7cd",
   "metadata": {},
   "outputs": [],
   "source": [
    "def get_playlist(input_text, count):\n",
    "    system_prompt = \"\"\"\n",
    "    You are a helpful playlist generating assistant. You should generate a list of songs and their artists according to a text prompt.\n",
    "    You should return a JSON array only, where each element follows this format: {\"song\": <song_title>, \"artist\": <artist>}\"\n",
    "    \"\"\"\n",
    "    user_prompt1 = \"Generate a playlist of 4 songs based on this prompt: super sad songs\"\n",
    "    assistant_answer = \"\"\"\n",
    "    [\n",
    "    {\"song\": \"Hurt\", \"artist\": \"Johnny Cash\"},\n",
    "    {\"song\": \"The Scientist\", \"artist\": \"Coldplay\"},\n",
    "    {\"song\": \"Everybody Hurts\", \"artist\": \"R.E.M.\"},\n",
    "    {\"song\": \"Tears in Heaven\", \"artist\": \"Eric Clapton\"}\n",
    "    ]\n",
    "    \"\"\"\n",
    "    \n",
    "    user_prompt2 = f\"Generate a playlist of {count} songs based on this prompt: {input_text}\"\n",
    "    \n",
    "    response = openai.chat.completions.create(\n",
    "        model=\"gpt-3.5-turbo\",\n",
    "        messages=[\n",
    "            {\n",
    "              \"role\": \"system\",\n",
    "              \"content\": f\"{system_prompt}\"\n",
    "            },\n",
    "            {\n",
    "              \"role\": \"user\",\n",
    "              \"content\": f\"{user_prompt1}\"\n",
    "            },\n",
    "            {\n",
    "              \"role\": \"assistant\",\n",
    "              \"content\": f\"{assistant_answer}\"\n",
    "            },\n",
    "            {\n",
    "              \"role\": \"user\",\n",
    "              \"content\": f\"{user_prompt2}\"\n",
    "            }\n",
    "        ])\n",
    "    return response\n",
    "\n",
    "query = get_playlist(\"high energy dance songs\", 5)\n",
    "    "
   ]
  },
  {
   "cell_type": "code",
   "execution_count": 7,
   "id": "9964d964-00c0-405c-a10e-67de4c63bec5",
   "metadata": {},
   "outputs": [
    {
     "name": "stdout",
     "output_type": "stream",
     "text": [
      "\n",
      "    [\n",
      "    {\"song\": \"Uptown Funk\", \"artist\": \"Mark Ronson ft. Bruno Mars\"},\n",
      "    {\"song\": \"Can't Stop the Feeling!\", \"artist\": \"Justin Timberlake\"},\n",
      "    {\"song\": \"Dancing Queen\", \"artist\": \"ABBA\"},\n",
      "    {\"song\": \"I Gotta Feeling\", \"artist\": \"The Black Eyed Peas\"},\n",
      "    {\"song\": \"Dancing in the Dark\", \"artist\": \"Bruce Springsteen\"}\n",
      "    ]\n",
      "    \n"
     ]
    }
   ],
   "source": [
    "answer = query.choices[0].message.content\n",
    "print(answer)"
   ]
  },
  {
   "cell_type": "code",
   "execution_count": null,
   "id": "707dfe9b-605e-4282-aab2-0fd06cc78465",
   "metadata": {},
   "outputs": [],
   "source": []
  }
 ],
 "metadata": {
  "kernelspec": {
   "display_name": "Python 3 (ipykernel)",
   "language": "python",
   "name": "python3"
  },
  "language_info": {
   "codemirror_mode": {
    "name": "ipython",
    "version": 3
   },
   "file_extension": ".py",
   "mimetype": "text/x-python",
   "name": "python",
   "nbconvert_exporter": "python",
   "pygments_lexer": "ipython3",
   "version": "3.12.2"
  }
 },
 "nbformat": 4,
 "nbformat_minor": 5
}
